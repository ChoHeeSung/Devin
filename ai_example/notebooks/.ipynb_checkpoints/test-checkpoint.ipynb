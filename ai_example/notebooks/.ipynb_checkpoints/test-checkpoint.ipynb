{
 "cells": [
  {
   "cell_type": "markdown",
   "metadata": {
    "vscode": {
     "languageId": "ini"
    }
   },
   "source": [
    "# 첫 번째 주피터 노트북\n",
    "\n",
    "이 노트북은 Python 프로그래밍을 위한 기본 템플릿입니다.\n",
    "\n",
    "## 사용 방법\n",
    "- 각 셀은 `Shift + Enter`로 실행할 수 있습니다.\n",
    "- 마크다운 셀은 `M`키로, 코드 셀은 `Y`키로 변환할 수 있습니다.\n",
    "- 새로운 셀은 `A`(위에 추가) 또는 `B`(아래에 추가)키로 생성할 수 있습니다."
   ]
  },
  {
   "cell_type": "code",
   "execution_count": 1,
   "metadata": {},
   "outputs": [
    {
     "name": "stdout",
     "output_type": "stream",
     "text": [
      "3.13.2 (main, Feb  4 2025, 14:51:09) [Clang 16.0.0 (clang-1600.0.26.6)]\n",
      "sys.version_info(major=3, minor=13, micro=2, releaselevel='final', serial=0)\n"
     ]
    }
   ],
   "source": [
    "import sys\n",
    "print(sys.version)  # 상세 버전 정보\n",
    "print(sys.version_info)  # 버전 정보를 구조화된 형태로 출력"
   ]
  },
  {
   "cell_type": "markdown",
   "metadata": {},
   "source": [
    "%pip install -q langchain langgraph langchain-docling langchain-qdrant langchain-text-splitters langchain-ollam"
   ]
  },
  {
   "cell_type": "markdown",
   "metadata": {},
   "source": [
    "import warnings\n",
    "warnings.filterwarnings(\"ignore\")"
   ]
  },
  {
   "cell_type": "markdown",
   "metadata": {},
   "source": []
  }
 ],
 "metadata": {
  "kernelspec": {
   "display_name": "Python 3",
   "language": "python",
   "name": "python3"
  },
  "language_info": {
   "codemirror_mode": {
    "name": "ipython",
    "version": 3
   },
   "file_extension": ".py",
   "mimetype": "text/x-python",
   "name": "python",
   "nbconvert_exporter": "python",
   "pygments_lexer": "ipython3",
   "version": "3.11.5"
  }
 },
 "nbformat": 4,
 "nbformat_minor": 2
}
