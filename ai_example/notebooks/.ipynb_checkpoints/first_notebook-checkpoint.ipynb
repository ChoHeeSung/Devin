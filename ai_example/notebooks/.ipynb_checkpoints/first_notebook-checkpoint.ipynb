{
 "cells": [
  {
   "cell_type": "markdown",
   "id": "44b0560c",
   "metadata": {},
   "source": [
    "# 첫 번째 주피터 노트북\n",
    "\n",
    "이 노트북은 Python 프로그래밍을 위한 기본 템플릿입니다.\n",
    "\n",
    "## 사용 방법\n",
    "- 각 셀은 `Shift + Enter`로 실행할 수 있습니다.\n",
    "- 마크다운 셀은 `M`키로, 코드 셀은 `Y`키로 변환할 수 있습니다.\n",
    "- 새로운 셀은 `A`(위에 추가) 또는 `B`(아래에 추가)키로 생성할 수 있습니다."
   ]
  },
  {
   "cell_type": "code",
   "execution_count": null,
   "id": "01c98376",
   "metadata": {},
   "outputs": [],
   "source": [
    "# Python 버전 확인\n",
    "import sys\n",
    "print(f\"Python 버전: {sys.version}\")\n",
    "\n",
    "# 현재 작업 디렉토리 확인\n",
    "import os\n",
    "print(f\"현재 작업 디렉토리: {os.getcwd()}\")"
   ]
  },
  {
   "cell_type": "code",
   "execution_count": null,
   "id": "f6ab02b7",
   "metadata": {},
   "outputs": [],
   "source": [
    "# 데이터 분석 및 과학 계산 라이브러리\n",
    "import numpy as np\n",
    "import pandas as pd\n",
    "\n",
    "# 시각화 라이브러리\n",
    "import matplotlib.pyplot as plt\n",
    "%matplotlib inline"
   ]
  }
 ],
 "metadata": {},
 "nbformat": 4,
 "nbformat_minor": 5
}
