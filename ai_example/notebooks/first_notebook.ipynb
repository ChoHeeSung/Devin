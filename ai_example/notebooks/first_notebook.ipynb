{
 "cells": [
  {
   "cell_type": "markdown",
   "id": "44b0560c",
   "metadata": {},
   "source": [
    "# 첫 번째 주피터 노트북\n",
    "\n",
    "이 노트북은 Python 프로그래밍을 위한 기본 템플릿입니다.\n",
    "\n",
    "## 사용 방법\n",
    "- 각 셀은 `Shift + Enter`로 실행할 수 있습니다.\n",
    "- 마크다운 셀은 `M`키로, 코드 셀은 `Y`키로 변환할 수 있습니다.\n",
    "- 새로운 셀은 `A`(위에 추가) 또는 `B`(아래에 추가)키로 생성할 수 있습니다."
   ]
  },
  {
   "cell_type": "code",
   "execution_count": 1,
   "id": "01c98376",
   "metadata": {},
   "outputs": [
    {
     "name": "stdout",
     "output_type": "stream",
     "text": [
      "Python 버전: 3.13.2 (main, Feb  4 2025, 14:51:09) [Clang 16.0.0 (clang-1600.0.26.6)]\n",
      "현재 작업 디렉토리: /Users/heesung/work/M_CHO/ai_example/notebooks\n"
     ]
    }
   ],
   "source": [
    "# Python 버전 확인\n",
    "import sys\n",
    "print(f\"Python 버전: {sys.version}\")\n",
    "\n",
    "# 현재 작업 디렉토리 확인\n",
    "import os\n",
    "print(f\"현재 작업 디렉토리: {os.getcwd()}\")"
   ]
  },
  {
   "cell_type": "code",
   "execution_count": 3,
   "id": "f6ab02b7",
   "metadata": {},
   "outputs": [],
   "source": [
    "# 데이터 분석 및 과학 계산 라이브러리\n",
    "import numpy as np\n",
    "import pandas as pd\n",
    "\n",
    "# 시각화 라이브러리\n",
    "import matplotlib.pyplot as plt\n",
    "%matplotlib inline"
   ]
  },
  {
   "cell_type": "code",
   "execution_count": null,
   "id": "263fba0a-398c-45b0-9600-09b6370ebcb8",
   "metadata": {},
   "outputs": [],
   "source": []
  }
 ],
 "metadata": {
  "kernelspec": {
   "display_name": "Python 3 (ipykernel)",
   "language": "python",
   "name": "python3"
  },
  "language_info": {
   "codemirror_mode": {
    "name": "ipython",
    "version": 3
   },
   "file_extension": ".py",
   "mimetype": "text/x-python",
   "name": "python",
   "nbconvert_exporter": "python",
   "pygments_lexer": "ipython3",
   "version": "3.13.2"
  }
 },
 "nbformat": 4,
 "nbformat_minor": 5
}
